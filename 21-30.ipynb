{
 "cells": [
  {
   "cell_type": "markdown",
   "id": "950fd201-6fb7-411e-bbfc-31d6989aa612",
   "metadata": {},
   "source": [
    "#### 21. Write a program in python for finding the last Fibonacci number for given number of elements."
   ]
  },
  {
   "cell_type": "code",
   "execution_count": 4,
   "id": "f7cd680b-835e-4e77-84b6-1119cd74bbdc",
   "metadata": {},
   "outputs": [
    {
     "name": "stdout",
     "output_type": "stream",
     "text": [
      "34\n"
     ]
    }
   ],
   "source": [
    "def Fibonacci_num(N):  \n",
    "    # function to find Nth Fibonacci number\n",
    "    \n",
    "    if N <= 0:  \n",
    "        return None  # no Fibonacci for 0 or negative\n",
    "    \n",
    "    if N == 1:  \n",
    "        return 0  # first Fibonacci number is 0\n",
    "    \n",
    "    a, b = 0, 1  \n",
    "    # starting values of Fibonacci sequence\n",
    "    \n",
    "    for _ in range(2, N):  \n",
    "        a, b = b, a + b  # shift forward: new a=old b, new b=sum\n",
    "    \n",
    "    return b  # return Nth Fibonacci number\n",
    "\n",
    "print(Fibonacci_num(10))  # prints 34"
   ]
  },
  {
   "cell_type": "markdown",
   "id": "18c089b1-42b8-4d45-81b5-6e3c11b0671b",
   "metadata": {},
   "source": [
    "#### 22. Write a python program to reverse words in a string."
   ]
  },
  {
   "cell_type": "code",
   "execution_count": 3,
   "id": "06abb290-2075-4f67-bd97-8ae8ce9941bf",
   "metadata": {},
   "outputs": [
    {
     "name": "stdout",
     "output_type": "stream",
     "text": [
      "yM eman si afifA\n"
     ]
    }
   ],
   "source": [
    "def reverse_word(string):\n",
    "\n",
    "    return ' '.join(word[::-1] for word in string.split())\n",
    "\n",
    "print(reverse_word('My name is Afifa'))"
   ]
  },
  {
   "cell_type": "markdown",
   "id": "288e4ff0-4cc8-4424-9052-89c3515859e7",
   "metadata": {},
   "source": [
    "#### 23. Write Python program to convert Kilometres to Miles. "
   ]
  },
  {
   "cell_type": "code",
   "execution_count": 6,
   "id": "9a382573-f08c-4f6e-b581-de4c8810e1a7",
   "metadata": {},
   "outputs": [
    {
     "name": "stdin",
     "output_type": "stream",
     "text": [
      "Enter kilometers:  6\n"
     ]
    },
    {
     "name": "stdout",
     "output_type": "stream",
     "text": [
      "6.0 km = 3.7282 miles\n"
     ]
    }
   ],
   "source": [
    "def km_to_miles(km):\n",
    "    return round(km * 0.62137, 4)\n",
    "\n",
    "km = float(input(\"Enter kilometers: \"))\n",
    "print(f\"{km} km = {km_to_miles(km)} miles\")"
   ]
  },
  {
   "cell_type": "code",
   "execution_count": null,
   "id": "7f2c2e97-44c1-4277-9d0e-f6e532ad3c96",
   "metadata": {},
   "outputs": [],
   "source": []
  }
 ],
 "metadata": {
  "kernelspec": {
   "display_name": "Python 3 (ipykernel)",
   "language": "python",
   "name": "python3"
  },
  "language_info": {
   "codemirror_mode": {
    "name": "ipython",
    "version": 3
   },
   "file_extension": ".py",
   "mimetype": "text/x-python",
   "name": "python",
   "nbconvert_exporter": "python",
   "pygments_lexer": "ipython3",
   "version": "3.11.7"
  }
 },
 "nbformat": 4,
 "nbformat_minor": 5
}
