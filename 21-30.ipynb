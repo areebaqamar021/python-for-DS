{
 "cells": [
  {
   "cell_type": "markdown",
   "id": "950fd201-6fb7-411e-bbfc-31d6989aa612",
   "metadata": {},
   "source": [
    "#### 21. Write a program in python for finding the last Fibonacci number for given number of elements."
   ]
  },
  {
   "cell_type": "code",
   "execution_count": 4,
   "id": "f7cd680b-835e-4e77-84b6-1119cd74bbdc",
   "metadata": {},
   "outputs": [
    {
     "name": "stdout",
     "output_type": "stream",
     "text": [
      "34\n"
     ]
    }
   ],
   "source": [
    "def Fibonacci_num(N):  \n",
    "    # function to find Nth Fibonacci number\n",
    "    \n",
    "    if N <= 0:  \n",
    "        return None  # no Fibonacci for 0 or negative\n",
    "    \n",
    "    if N == 1:  \n",
    "        return 0  # first Fibonacci number is 0\n",
    "    \n",
    "    a, b = 0, 1  \n",
    "    # starting values of Fibonacci sequence\n",
    "    \n",
    "    for _ in range(2, N):  \n",
    "        a, b = b, a + b  # shift forward: new a=old b, new b=sum\n",
    "    \n",
    "    return b  # return Nth Fibonacci number\n",
    "\n",
    "print(Fibonacci_num(10))  # prints 34"
   ]
  },
  {
   "cell_type": "markdown",
   "id": "18c089b1-42b8-4d45-81b5-6e3c11b0671b",
   "metadata": {},
   "source": [
    "#### 22. Write a python program to reverse words in a string."
   ]
  },
  {
   "cell_type": "code",
   "execution_count": 3,
   "id": "06abb290-2075-4f67-bd97-8ae8ce9941bf",
   "metadata": {},
   "outputs": [
    {
     "name": "stdout",
     "output_type": "stream",
     "text": [
      "yM eman si afifA\n"
     ]
    }
   ],
   "source": [
    "def reverse_word(string):\n",
    "\n",
    "    return ' '.join(word[::-1] for word in string.split())\n",
    "\n",
    "print(reverse_word('My name is Afifa'))"
   ]
  },
  {
   "cell_type": "markdown",
   "id": "288e4ff0-4cc8-4424-9052-89c3515859e7",
   "metadata": {},
   "source": [
    "#### 23. Write Python program to convert Kilometres to Miles. "
   ]
  },
  {
   "cell_type": "code",
   "execution_count": 8,
   "id": "c3cfb2f6-19f3-4606-a2af-3265c641f52a",
   "metadata": {},
   "outputs": [
    {
     "name": "stdout",
     "output_type": "stream",
     "text": [
      "Enter kilometers:  6\n"
     ]
    },
    {
     "name": "stdout",
     "output_type": "stream",
     "text": [
      "6.0 km = 3.7282 miles\n"
     ]
    }
   ],
   "source": [
    "def km_to_miles(km):\n",
    "    return round(km * 0.62137, 4)\n",
    "\n",
    "km = float(input(\"Enter kilometers: \"))\n",
    "print(f\"{km} km = {km_to_miles(km)} miles\")"
   ]
  },
  {
   "cell_type": "markdown",
   "id": "ae925d13-f78c-4a12-bcab-dcd0b60e2a9c",
   "metadata": {},
   "source": [
    "#### 24. Write Python Program to check if a Number is Positive, Negative or Zero"
   ]
  },
  {
   "cell_type": "code",
   "execution_count": 13,
   "id": "3f6f79de-c062-4787-9802-b7e0533aa75c",
   "metadata": {},
   "outputs": [
    {
     "name": "stdout",
     "output_type": "stream",
     "text": [
      "Given input 10 is positive\n",
      "Given input 0 is zero\n",
      "Given input -5 is negative\n"
     ]
    }
   ],
   "source": [
    "def check_number(num):\n",
    "\n",
    "    if num > 0:                         \n",
    "        return f\"Given input {num} is positive\"\n",
    "    elif num < 0:                      \n",
    "        return f\"Given input {num} is negative\"\n",
    "    else:                               \n",
    "        return f\"Given input {num} is zero\"\n",
    "    \n",
    "print(check_number(10))  \n",
    "print(check_number(0))  \n",
    "print(check_number(-5))  "
   ]
  },
  {
   "cell_type": "markdown",
   "id": "d5382857-6967-4798-b6d2-cddd6ec847f7",
   "metadata": {},
   "source": [
    "#### 25. Write python program to find area of rectangle."
   ]
  },
  {
   "cell_type": "code",
   "execution_count": 3,
   "id": "1805f137-f310-4db4-b536-8bc519b82934",
   "metadata": {},
   "outputs": [
    {
     "name": "stdout",
     "output_type": "stream",
     "text": [
      "Enter the length of the rectangle:  5.5\n",
      "Enter the width of the rectangle:  6.44\n"
     ]
    },
    {
     "name": "stdout",
     "output_type": "stream",
     "text": [
      "The area of the rectangle is: 35.42\n"
     ]
    }
   ],
   "source": [
    "def area_of_rectangle(length, width):\n",
    "\n",
    "    area = length * width\n",
    "    return area\n",
    "\n",
    "length = float(input(\"Enter the length of the rectangle: \"))\n",
    "width = float(input(\"Enter the width of the rectangle: \"))\n",
    "\n",
    "print(f\"The area of the rectangle is: {area_of_rectangle(length, width)}\")"
   ]
  },
  {
   "cell_type": "markdown",
   "id": "1f0d44a6-4011-43a5-bd32-218aaf5db73e",
   "metadata": {},
   "source": [
    "#### 26. Compare two lists in Python."
   ]
  },
  {
   "cell_type": "code",
   "execution_count": 6,
   "id": "f7d8322a-0026-44ae-8433-ee1a6b43ccd4",
   "metadata": {},
   "outputs": [
    {
     "name": "stdout",
     "output_type": "stream",
     "text": [
      "Given two lists are not equal\n"
     ]
    }
   ],
   "source": [
    "def compare_list(list1, list2):\n",
    "\n",
    "    list1 = sorted(list1)    \n",
    "    list2 = sorted(list2)\n",
    "\n",
    "    if list1 == list2:\n",
    "        return \"Given two lists are equal\"\n",
    "    else:\n",
    "        return \"Given two lists are not equal\"\n",
    "\n",
    "list1 = [10, 20, 30, 40, 50, 60]\n",
    "list2 = [10, 20, 30, 50, 40, 70]\n",
    "print(compare_list(list1, list2))"
   ]
  },
  {
   "cell_type": "markdown",
   "id": "9e422470-d8cf-4a9e-a6c5-c2d5309f71da",
   "metadata": {},
   "source": [
    "#### 27. Python function that performs email validation."
   ]
  },
  {
   "cell_type": "code",
   "execution_count": 4,
   "id": "971b7f64-a443-4ac2-a010-284942478348",
   "metadata": {},
   "outputs": [
    {
     "name": "stdout",
     "output_type": "stream",
     "text": [
      "True\n",
      "True\n",
      "True\n",
      "True\n",
      "False\n",
      "False\n",
      "False\n",
      "False\n",
      "False\n"
     ]
    }
   ],
   "source": [
    "import re\n",
    "\n",
    "def validate_email(email):\n",
    "    pattern = r'^[\\w\\.-]+@[\\w\\.-]+\\.\\w+$' \n",
    "\n",
    "    if re.match(pattern, email):\n",
    "        return True\n",
    "    else:\n",
    "        return False\n",
    "    \n",
    "email_addresses = [\n",
    "    \"john.doe@example.com\",\n",
    "    \"jane@example.co.uk\",\n",
    "    \"alice123@gmail.com\",\n",
    "    \"bob.smith123@company.net\",\n",
    "    \"invalid.email\",\n",
    "    \"noatsymbol.com\",\n",
    "    \"spaces are not allowed@example.com\",\n",
    "    \"special_chars!@gmail.com\",\n",
    "    \"missingdomain@.com\"\n",
    "]\n",
    "\n",
    "for email in email_addresses:\n",
    "    print(validate_email(email))"
   ]
  },
  {
   "cell_type": "markdown",
   "id": "b5c25856-db29-4d6e-aff2-c9499d8270bb",
   "metadata": {},
   "source": [
    "#### 28. Swap element from list from specific index."
   ]
  },
  {
   "cell_type": "code",
   "execution_count": 7,
   "id": "5068f940-9809-43df-9af6-1a413c421c73",
   "metadata": {},
   "outputs": [
    {
     "name": "stdout",
     "output_type": "stream",
     "text": [
      "[1, 2, 6, 4]\n"
     ]
    }
   ],
   "source": [
    "def swap_element(list, old, new):\n",
    "    index = list.index(old)\n",
    "    list[index] = new\n",
    "    return list\n",
    "\n",
    "numbers = [1, 2, 3, 4]\n",
    "result = swap_element(numbers, 3, 6)\n",
    "print(result)"
   ]
  },
  {
   "cell_type": "markdown",
   "id": "e130065b-4e76-412c-8e92-640bd1cfdcbf",
   "metadata": {},
   "source": [
    "#### 29. Write a python program to find the minimum sum of factors of a number."
   ]
  },
  {
   "cell_type": "code",
   "execution_count": 10,
   "id": "9b7aec16-0347-4e56-a35b-bd05c19e34a6",
   "metadata": {},
   "outputs": [
    {
     "name": "stdin",
     "output_type": "stream",
     "text": [
      "Enter a number:  6\n"
     ]
    },
    {
     "name": "stdout",
     "output_type": "stream",
     "text": [
      "The sum of factors for 6 is 12\n"
     ]
    }
   ],
   "source": [
    "def factor_sum(n):\n",
    "    factors = []  # Empty list to store factors\n",
    "\n",
    "    for i in range(1, n + 1):\n",
    "        if n % i == 0:       # Check if i divides n completely\n",
    "            factors.append(i) # Add i to list if it’s a factor\n",
    "\n",
    "    exact_sum = sum(factors)  # Calculate total sum (should be outside the loop)\n",
    "    return exact_sum          # Return the sum after finding all factors\n",
    "\n",
    "# Get user input\n",
    "num = int(input(\"Enter a number: \"))\n",
    "\n",
    "# Call function and store result\n",
    "exact_sum = factor_sum(num)\n",
    "\n",
    "# Print result\n",
    "print(\"The sum of factors for\", num, \"is\", exact_sum)"
   ]
  },
  {
   "cell_type": "markdown",
   "id": "30e148e7-d35b-42f1-aab1-68a4a0469454",
   "metadata": {},
   "source": [
    "#### 30. Find second highest element in list."
   ]
  },
  {
   "cell_type": "code",
   "execution_count": 13,
   "id": "6015e881-ed86-4264-8985-aaa72be356b5",
   "metadata": {},
   "outputs": [
    {
     "name": "stdout",
     "output_type": "stream",
     "text": [
      "14\n"
     ]
    }
   ],
   "source": [
    "def sec_high_element(list_):\n",
    "    list_ = sorted(list_)\n",
    "    sec_high_element = list_[len(list_) - 2]\n",
    "    return sec_high_element\n",
    "\n",
    "list1 = [14, 12, 25, 6, 8, 4, 0]\n",
    "print(sec_high_element(list1))"
   ]
  }
 ],
 "metadata": {
  "kernelspec": {
   "display_name": "Python 3 (ipykernel)",
   "language": "python",
   "name": "python3"
  },
  "language_info": {
   "codemirror_mode": {
    "name": "ipython",
    "version": 3
   },
   "file_extension": ".py",
   "mimetype": "text/x-python",
   "name": "python",
   "nbconvert_exporter": "python",
   "pygments_lexer": "ipython3",
   "version": "3.11.7"
  }
 },
 "nbformat": 4,
 "nbformat_minor": 5
}
