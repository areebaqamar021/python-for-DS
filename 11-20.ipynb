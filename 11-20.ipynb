{
 "cells": [
  {
   "cell_type": "markdown",
   "id": "05ddc4f8-5914-4295-927f-5a3fbf82f671",
   "metadata": {},
   "source": [
    "#### 11. Write a Python function that takes a list of integers as input and returns a new list that contains only the even numbers from the input list."
   ]
  },
  {
   "cell_type": "code",
   "execution_count": 3,
   "id": "b0029bd4-88fb-4415-8514-12223e82424f",
   "metadata": {},
   "outputs": [
    {
     "name": "stdout",
     "output_type": "stream",
     "text": [
      "[2, 4, 6, 8, 10]\n"
     ]
    }
   ],
   "source": [
    "def find_even_numbers(list):\n",
    "    even_numbers = []\n",
    "    for num in list:\n",
    "        if (num%2 == 0):\n",
    "            even_numbers.append(num)\n",
    "    return even_numbers\n",
    "\n",
    "numbers = [1, 2, 3, 4, 5, 6, 7, 8, 9, 10]\n",
    "print(find_even_numbers(numbers))"
   ]
  },
  {
   "cell_type": "code",
   "execution_count": 1,
   "id": "4924d60a-4f6b-4c62-ae63-a12a919a01d1",
   "metadata": {},
   "outputs": [
    {
     "name": "stdout",
     "output_type": "stream",
     "text": [
      "[1, 3, 5, 7, 9]\n"
     ]
    }
   ],
   "source": [
    "# Write a Python function that takes a list of integers as input and returns a new list that contains only the odd numbers from the input list.\n",
    "\n",
    "def find_odd_numbers(list):\n",
    "    odd_numbers = []\n",
    "    for num in list:\n",
    "        if (num%2 != 0):\n",
    "            odd_numbers.append(num)\n",
    "    return odd_numbers\n",
    "\n",
    "numbers = [1, 2, 3, 4, 5, 6, 7, 8, 9, 10]\n",
    "print(find_odd_numbers(numbers))"
   ]
  },
  {
   "cell_type": "markdown",
   "id": "5e21f489-1564-4cfc-bbd4-1bb82b4fec2a",
   "metadata": {},
   "source": [
    "#### Write a Python function that takes a string as input and returns the total number of characters in the string, excluding spaces. The function should count each character one by one and return the final count."
   ]
  },
  {
   "cell_type": "code",
   "execution_count": 4,
   "id": "e875d663-d89b-4e8f-aef0-0968d1a500e4",
   "metadata": {},
   "outputs": [
    {
     "name": "stdout",
     "output_type": "stream",
     "text": [
      "22\n"
     ]
    }
   ],
   "source": [
    "def count_characters(string):\n",
    "    count = 0\n",
    "    for char in string:\n",
    "        if char != \" \":\n",
    "            count += 1\n",
    "    return count\n",
    "\n",
    "text = \"This is a sample sentence.\"\n",
    "print(count_characters(text))"
   ]
  },
  {
   "cell_type": "code",
   "execution_count": 8,
   "id": "624d2378-2dcc-423e-b9ce-e19fb44de634",
   "metadata": {},
   "outputs": [
    {
     "name": "stdout",
     "output_type": "stream",
     "text": [
      "5\n"
     ]
    }
   ],
   "source": [
    "# count words\n",
    "\n",
    "def count_words(string):\n",
    "    words = string.split()\n",
    "    return len(words)\n",
    "\n",
    "text = \"This is a sample sentence.\"\n",
    "print(count_words(text))"
   ]
  },
  {
   "cell_type": "code",
   "execution_count": null,
   "id": "ab6c859e-4e05-46ae-a16f-15609a58c19c",
   "metadata": {},
   "outputs": [],
   "source": []
  }
 ],
 "metadata": {
  "kernelspec": {
   "display_name": "Python 3 (ipykernel)",
   "language": "python",
   "name": "python3"
  },
  "language_info": {
   "codemirror_mode": {
    "name": "ipython",
    "version": 3
   },
   "file_extension": ".py",
   "mimetype": "text/x-python",
   "name": "python",
   "nbconvert_exporter": "python",
   "pygments_lexer": "ipython3",
   "version": "3.11.7"
  }
 },
 "nbformat": 4,
 "nbformat_minor": 5
}
