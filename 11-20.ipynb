{
 "cells": [
  {
   "cell_type": "markdown",
   "id": "05ddc4f8-5914-4295-927f-5a3fbf82f671",
   "metadata": {},
   "source": [
    "#### 11. Write a Python function that takes a list of integers as input and returns a new list that contains only the even numbers from the input list."
   ]
  },
  {
   "cell_type": "code",
   "execution_count": 3,
   "id": "b0029bd4-88fb-4415-8514-12223e82424f",
   "metadata": {},
   "outputs": [
    {
     "name": "stdout",
     "output_type": "stream",
     "text": [
      "[2, 4, 6, 8, 10]\n"
     ]
    }
   ],
   "source": [
    "def find_even_numbers(list):\n",
    "    even_numbers = []\n",
    "    for num in list:\n",
    "        if (num%2 == 0):\n",
    "            even_numbers.append(num)\n",
    "    return even_numbers\n",
    "\n",
    "numbers = [1, 2, 3, 4, 5, 6, 7, 8, 9, 10]\n",
    "print(find_even_numbers(numbers))"
   ]
  },
  {
   "cell_type": "code",
   "execution_count": 8,
   "id": "4924d60a-4f6b-4c62-ae63-a12a919a01d1",
   "metadata": {},
   "outputs": [
    {
     "name": "stdout",
     "output_type": "stream",
     "text": [
      "[1, 3, 5, 7, 9]\n"
     ]
    }
   ],
   "source": [
    "# Write a Python function that takes a list of integers as input and returns a new list that contains only the odd numbers from the input list.\n",
    "\n",
    "def find_odd_numbers(list):\n",
    "    odd_numbers = []\n",
    "    for num in list:\n",
    "        if (num%2 != 0):\n",
    "            odd_numbers.append(num)\n",
    "    return odd_numbers\n",
    "\n",
    "numbers = [1, 2, 3, 4, 5, 6, 7, 8, 9, 10]\n",
    "print(find_odd_numbers(numbers))"
   ]
  }
 ],
 "metadata": {
  "kernelspec": {
   "display_name": "Python 3 (ipykernel)",
   "language": "python",
   "name": "python3"
  },
  "language_info": {
   "codemirror_mode": {
    "name": "ipython",
    "version": 3
   },
   "file_extension": ".py",
   "mimetype": "text/x-python",
   "name": "python",
   "nbconvert_exporter": "python",
   "pygments_lexer": "ipython3",
   "version": "3.11.7"
  }
 },
 "nbformat": 4,
 "nbformat_minor": 5
}
