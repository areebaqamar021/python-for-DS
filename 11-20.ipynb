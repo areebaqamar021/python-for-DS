{
 "cells": [
  {
   "cell_type": "markdown",
   "id": "05ddc4f8-5914-4295-927f-5a3fbf82f671",
   "metadata": {},
   "source": [
    "#### 11. Write a Python function that takes a list of integers as input and returns a new list that contains only the even numbers from the input list."
   ]
  },
  {
   "cell_type": "code",
   "execution_count": 3,
   "id": "b0029bd4-88fb-4415-8514-12223e82424f",
   "metadata": {},
   "outputs": [
    {
     "name": "stdout",
     "output_type": "stream",
     "text": [
      "[2, 4, 6, 8, 10]\n"
     ]
    }
   ],
   "source": [
    "def find_even_numbers(list):\n",
    "    even_numbers = []\n",
    "    for num in list:\n",
    "        if (num%2 == 0):\n",
    "            even_numbers.append(num)\n",
    "    return even_numbers\n",
    "\n",
    "numbers = [1, 2, 3, 4, 5, 6, 7, 8, 9, 10]\n",
    "print(find_even_numbers(numbers))"
   ]
  },
  {
   "cell_type": "code",
   "execution_count": 1,
   "id": "4924d60a-4f6b-4c62-ae63-a12a919a01d1",
   "metadata": {},
   "outputs": [
    {
     "name": "stdout",
     "output_type": "stream",
     "text": [
      "[1, 3, 5, 7, 9]\n"
     ]
    }
   ],
   "source": [
    "# Write a Python function that takes a list of integers as input and returns a new list that contains only the odd numbers from the input list.\n",
    "\n",
    "def find_odd_numbers(list):\n",
    "    odd_numbers = []\n",
    "    for num in list:\n",
    "        if (num%2 != 0):\n",
    "            odd_numbers.append(num)\n",
    "    return odd_numbers\n",
    "\n",
    "numbers = [1, 2, 3, 4, 5, 6, 7, 8, 9, 10]\n",
    "print(find_odd_numbers(numbers))"
   ]
  },
  {
   "cell_type": "markdown",
   "id": "5e21f489-1564-4cfc-bbd4-1bb82b4fec2a",
   "metadata": {},
   "source": [
    "#### 12. Write a Python function that takes a string as input and returns the total number of characters in the string, excluding spaces. The function should count each character one by one and return the final count."
   ]
  },
  {
   "cell_type": "code",
   "execution_count": 4,
   "id": "e875d663-d89b-4e8f-aef0-0968d1a500e4",
   "metadata": {},
   "outputs": [
    {
     "name": "stdout",
     "output_type": "stream",
     "text": [
      "22\n"
     ]
    }
   ],
   "source": [
    "def count_characters(string):\n",
    "    count = 0\n",
    "    for char in string:\n",
    "        if char != \" \":\n",
    "            count += 1\n",
    "    return count\n",
    "\n",
    "text = \"This is a sample sentence.\"\n",
    "print(count_characters(text))"
   ]
  },
  {
   "cell_type": "code",
   "execution_count": 8,
   "id": "624d2378-2dcc-423e-b9ce-e19fb44de634",
   "metadata": {},
   "outputs": [
    {
     "name": "stdout",
     "output_type": "stream",
     "text": [
      "5\n"
     ]
    }
   ],
   "source": [
    "# count words\n",
    "\n",
    "def count_words(string):\n",
    "    words = string.split()\n",
    "    return len(words)\n",
    "\n",
    "text = \"This is a sample sentence.\"\n",
    "print(count_words(text))"
   ]
  },
  {
   "cell_type": "markdown",
   "id": "0f36f2a7-cf76-4c4b-8149-71d4b2f5dd94",
   "metadata": {},
   "source": [
    "#### 13. Write a Python function that takes a list of strings as input and returns a new list containing the number of vowels (a, e, i, o, u) in each string. If a string has no vowels, the function should return 0 for that string."
   ]
  },
  {
   "cell_type": "code",
   "execution_count": 9,
   "id": "ebd1c91c-6ce7-43e2-bfee-436845ccdf04",
   "metadata": {},
   "outputs": [
    {
     "name": "stdout",
     "output_type": "stream",
     "text": [
      "[2, 1, 1, 2, 0]\n"
     ]
    }
   ],
   "source": [
    "def count_vowels(list_):\n",
    "    \n",
    "    vowels = \"aeiouAEIOU\"   \n",
    "    result = []\n",
    "    \n",
    "    for word in list_:\n",
    "        count = 0\n",
    "        for char in word:  \n",
    "            if char in vowels:\n",
    "                count += 1\n",
    "        result.append(count)  \n",
    "        \n",
    "    return result\n",
    "\n",
    "strings = [\"Hello\", \"world\", \"Python\", \"AI\", \"\"]\n",
    "result = count_vowels(strings)\n",
    "print(result)"
   ]
  },
  {
   "cell_type": "code",
   "execution_count": 13,
   "id": "5f65a4aa-330c-408e-8a75-724b07d70214",
   "metadata": {},
   "outputs": [
    {
     "name": "stdout",
     "output_type": "stream",
     "text": [
      "[5, 5, 6, 0]\n"
     ]
    }
   ],
   "source": [
    "# Write a Python function that takes a list of strings as input and returns a new list containing the lengths of the strings in the input list.\n",
    "\n",
    "def string_length(list_):\n",
    "\n",
    "    str_length= []\n",
    "    for string in list_:\n",
    "        str_length.append(len(string))\n",
    "    return str_length\n",
    "\n",
    "strings = [\"Hello\", \"world\", \"Python\", \"\"]\n",
    "result = string_length(strings)\n",
    "print(result)"
   ]
  },
  {
   "cell_type": "markdown",
   "id": "724092d1-499f-4f8d-b898-d0e4c9f8745f",
   "metadata": {},
   "source": [
    "#### 14. Write a Python function called max_grade that takes a list of grades (integers) as input and returns the highest grade."
   ]
  },
  {
   "cell_type": "code",
   "execution_count": 2,
   "id": "445dc04c-d0de-4c1f-93f1-39c1816a5d2d",
   "metadata": {},
   "outputs": [
    {
     "name": "stdout",
     "output_type": "stream",
     "text": [
      "421\n"
     ]
    }
   ],
   "source": [
    "def max_grade(list_):\n",
    "    highest = sum(list_)\n",
    "    return highest\n",
    "\n",
    "grades = [80, 90, 75, 85, 91]\n",
    "result = max_grade(grades)\n",
    "print(result)"
   ]
  },
  {
   "cell_type": "code",
   "execution_count": 4,
   "id": "53b5e946-4a88-4acb-9fc0-454038d1fae3",
   "metadata": {},
   "outputs": [
    {
     "name": "stdout",
     "output_type": "stream",
     "text": [
      "84.2\n"
     ]
    }
   ],
   "source": [
    "# Write a Python function average_grade that takes a list of integers (grades) and returns their average.\n",
    "\n",
    "def average_grade(list):\n",
    "    average = sum(list) / len(list)\n",
    "    return average\n",
    "\n",
    "grades = [80, 90, 75, 85, 91]\n",
    "average = average_grade(grades)\n",
    "print(average)"
   ]
  },
  {
   "cell_type": "markdown",
   "id": "e9f7fc8a-4cb1-40f2-af65-5fe5bf5e3957",
   "metadata": {},
   "source": [
    "#### 15. Write a function called count_sentences that takes a string as input and returns the number of sentences in the string. Sentences are considered to end with ., !, or ?. Ignore extra spaces."
   ]
  },
  {
   "cell_type": "code",
   "execution_count": 23,
   "id": "c953c4d0-b9b5-40e1-9fad-973b107a41c8",
   "metadata": {},
   "outputs": [
    {
     "name": "stdout",
     "output_type": "stream",
     "text": [
      "3\n"
     ]
    }
   ],
   "source": [
    "def count_sentences(string):\n",
    "    count = 0\n",
    "    for char in string:\n",
    "        if char in \".!?\":\n",
    "            count += 1\n",
    "    return count\n",
    "\n",
    "text = \"Hello! How are you?   I am fine.\"\n",
    "result = count_sentences(text)\n",
    "print(result)"
   ]
  },
  {
   "cell_type": "code",
   "execution_count": 17,
   "id": "f5b30e8f-6506-4e08-a4d7-33d4fea7bd67",
   "metadata": {},
   "outputs": [
    {
     "name": "stdout",
     "output_type": "stream",
     "text": [
      "4\n"
     ]
    }
   ],
   "source": [
    "# Write a function count_words that returns the number of words in a string, ignoring extra spaces.\n",
    "\n",
    "def count_words(string):\n",
    "    word_list = string.strip().split()\n",
    "    return len(word_list)\n",
    "\n",
    "# Validation\n",
    "text = \"   Hello,   how are   you?   \"\n",
    "print(count_words(text))"
   ]
  },
  {
   "cell_type": "code",
   "execution_count": null,
   "id": "ed9ce3d9-b6c0-4c19-b8d9-9f5ae493b056",
   "metadata": {},
   "outputs": [],
   "source": []
  }
 ],
 "metadata": {
  "kernelspec": {
   "display_name": "Python 3 (ipykernel)",
   "language": "python",
   "name": "python3"
  },
  "language_info": {
   "codemirror_mode": {
    "name": "ipython",
    "version": 3
   },
   "file_extension": ".py",
   "mimetype": "text/x-python",
   "name": "python",
   "nbconvert_exporter": "python",
   "pygments_lexer": "ipython3",
   "version": "3.11.7"
  }
 },
 "nbformat": 4,
 "nbformat_minor": 5
}
