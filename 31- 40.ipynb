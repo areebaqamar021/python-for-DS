{
 "cells": [
  {
   "cell_type": "markdown",
   "id": "2eeba2a6-398c-441d-9b98-83117efd9be3",
   "metadata": {},
   "source": [
    "#### 31. Write a program that would print all the odd numbers from 1 to 255."
   ]
  },
  {
   "cell_type": "code",
   "execution_count": 2,
   "id": "ae0e9dd2-f75e-4d89-9ef0-bfb02f0670a4",
   "metadata": {},
   "outputs": [
    {
     "name": "stdout",
     "output_type": "stream",
     "text": [
      "[1, 3, 5, 7, 9, 11, 13, 15, 17, 19]\n"
     ]
    }
   ],
   "source": [
    "def odd_numbers_upto(n):\n",
    "    if n < 1:\n",
    "        return \"Please enter a number greater than 0\"\n",
    "    return [i for i in range(1,n) if i % 2 != 0]\n",
    "\n",
    "print(odd_numbers_upto(20))"
   ]
  },
  {
   "cell_type": "markdown",
   "id": "4888c34c-b1ff-4222-aaa9-25e75352467a",
   "metadata": {},
   "source": [
    "#### 32. Write a program that would print all the numbers between given range."
   ]
  },
  {
   "cell_type": "code",
   "execution_count": 5,
   "id": "049d5781-94bb-4401-8e0b-5db2edbd83eb",
   "metadata": {},
   "outputs": [
    {
     "name": "stdout",
     "output_type": "stream",
     "text": [
      "[2, 3, 4, 5, 6, 7, 8, 9, 10, 11]\n"
     ]
    }
   ],
   "source": [
    "def print_numbers(start, stop):\n",
    "    return list(range(start+1,stop))\n",
    "\n",
    "result = print_numbers(1, 12)\n",
    "print(result)"
   ]
  },
  {
   "cell_type": "markdown",
   "id": "3050ab88-6743-4960-b172-218c255848ab",
   "metadata": {},
   "source": [
    "#### 33. Write a program that takes an array, and prints the AVERAGE of the values in the array. "
   ]
  },
  {
   "cell_type": "code",
   "execution_count": 2,
   "id": "9f61bb53-29a4-40ee-9ee4-818ff524c61f",
   "metadata": {},
   "outputs": [
    {
     "name": "stdout",
     "output_type": "stream",
     "text": [
      "5\n"
     ]
    }
   ],
   "source": [
    "def average_of_array(array):\n",
    "    return sum(array)/len(array)\n",
    "\n",
    "array = [2, 10, 3]\n",
    "print(int(average_of_array(array)))"
   ]
  },
  {
   "cell_type": "markdown",
   "id": "7ac32972-71ba-40db-8192-e9b31bffb3cc",
   "metadata": {},
   "source": [
    "#### 34. Write python program to convert list to flatten?"
   ]
  },
  {
   "cell_type": "code",
   "execution_count": 7,
   "id": "727ffa9d-aed6-44c6-8767-6089e12e8a89",
   "metadata": {},
   "outputs": [
    {
     "name": "stdout",
     "output_type": "stream",
     "text": [
      "[1, 2, 3, 4, 5, 6, 7]\n"
     ]
    }
   ],
   "source": [
    "def flatten_list(list_):\n",
    "    flatten_list = [] \n",
    "    for item in list_:\n",
    "        if isinstance(item, list):\n",
    "            flatten_list.extend(item) \n",
    "        else:\n",
    "            flatten_list.append(item)  \n",
    "    return flatten_list\n",
    "\n",
    "nested_list = [1, [2, 3], [4, 5, 6], 7]\n",
    "result = flatten_list(nested_list)\n",
    "print(result)"
   ]
  },
  {
   "cell_type": "code",
   "execution_count": null,
   "id": "a25d7e99-b421-408b-9304-55caa19a51bd",
   "metadata": {},
   "outputs": [],
   "source": []
  }
 ],
 "metadata": {
  "kernelspec": {
   "display_name": "Python 3 (ipykernel)",
   "language": "python",
   "name": "python3"
  },
  "language_info": {
   "codemirror_mode": {
    "name": "ipython",
    "version": 3
   },
   "file_extension": ".py",
   "mimetype": "text/x-python",
   "name": "python",
   "nbconvert_exporter": "python",
   "pygments_lexer": "ipython3",
   "version": "3.11.7"
  }
 },
 "nbformat": 4,
 "nbformat_minor": 5
}
