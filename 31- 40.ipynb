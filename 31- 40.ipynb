{
 "cells": [
  {
   "cell_type": "markdown",
   "id": "2eeba2a6-398c-441d-9b98-83117efd9be3",
   "metadata": {},
   "source": [
    "#### 31. Write a program that would print all the odd numbers from 1 to 255."
   ]
  },
  {
   "cell_type": "code",
   "execution_count": 2,
   "id": "ae0e9dd2-f75e-4d89-9ef0-bfb02f0670a4",
   "metadata": {},
   "outputs": [
    {
     "name": "stdout",
     "output_type": "stream",
     "text": [
      "[1, 3, 5, 7, 9, 11, 13, 15, 17, 19]\n"
     ]
    }
   ],
   "source": [
    "def odd_numbers_upto(n):\n",
    "    if n < 1:\n",
    "        return \"Please enter a number greater than 0\"\n",
    "    return [i for i in range(1,n) if i % 2 != 0]\n",
    "\n",
    "print(odd_numbers_upto(20))"
   ]
  },
  {
   "cell_type": "markdown",
   "id": "4888c34c-b1ff-4222-aaa9-25e75352467a",
   "metadata": {},
   "source": [
    "#### 32. Write a program that would print all the numbers between given range."
   ]
  },
  {
   "cell_type": "code",
   "execution_count": 5,
   "id": "049d5781-94bb-4401-8e0b-5db2edbd83eb",
   "metadata": {},
   "outputs": [
    {
     "name": "stdout",
     "output_type": "stream",
     "text": [
      "[2, 3, 4, 5, 6, 7, 8, 9, 10, 11]\n"
     ]
    }
   ],
   "source": [
    "def print_numbers(start, stop):\n",
    "    return list(range(start+1,stop))\n",
    "\n",
    "result = print_numbers(1, 12)\n",
    "print(result)"
   ]
  },
  {
   "cell_type": "code",
   "execution_count": null,
   "id": "00f643f2-2b32-4745-b014-e5d7d86ff4ad",
   "metadata": {},
   "outputs": [],
   "source": []
  }
 ],
 "metadata": {
  "kernelspec": {
   "display_name": "Python 3 (ipykernel)",
   "language": "python",
   "name": "python3"
  },
  "language_info": {
   "codemirror_mode": {
    "name": "ipython",
    "version": 3
   },
   "file_extension": ".py",
   "mimetype": "text/x-python",
   "name": "python",
   "nbconvert_exporter": "python",
   "pygments_lexer": "ipython3",
   "version": "3.11.7"
  }
 },
 "nbformat": 4,
 "nbformat_minor": 5
}
