{
 "cells": [
  {
   "cell_type": "markdown",
   "id": "2eeba2a6-398c-441d-9b98-83117efd9be3",
   "metadata": {},
   "source": [
    "#### 31. Write a program that would print all the odd numbers from 1 to 255."
   ]
  },
  {
   "cell_type": "code",
   "execution_count": 2,
   "id": "ae0e9dd2-f75e-4d89-9ef0-bfb02f0670a4",
   "metadata": {},
   "outputs": [
    {
     "name": "stdout",
     "output_type": "stream",
     "text": [
      "[1, 3, 5, 7, 9, 11, 13, 15, 17, 19]\n"
     ]
    }
   ],
   "source": [
    "def odd_numbers_upto(n):\n",
    "    if n < 1:\n",
    "        return \"Please enter a number greater than 0\"\n",
    "    return [i for i in range(1,n) if i % 2 != 0]\n",
    "\n",
    "print(odd_numbers_upto(20))"
   ]
  },
  {
   "cell_type": "markdown",
   "id": "4888c34c-b1ff-4222-aaa9-25e75352467a",
   "metadata": {},
   "source": [
    "#### 32. Write a program that would print all the numbers between given range."
   ]
  },
  {
   "cell_type": "code",
   "execution_count": 5,
   "id": "049d5781-94bb-4401-8e0b-5db2edbd83eb",
   "metadata": {},
   "outputs": [
    {
     "name": "stdout",
     "output_type": "stream",
     "text": [
      "[2, 3, 4, 5, 6, 7, 8, 9, 10, 11]\n"
     ]
    }
   ],
   "source": [
    "def print_numbers(start, stop):\n",
    "    return list(range(start+1,stop))\n",
    "\n",
    "result = print_numbers(1, 12)\n",
    "print(result)"
   ]
  },
  {
   "cell_type": "markdown",
   "id": "3050ab88-6743-4960-b172-218c255848ab",
   "metadata": {},
   "source": [
    "#### 33. Write a program that takes an array, and prints the AVERAGE of the values in the array. "
   ]
  },
  {
   "cell_type": "code",
   "execution_count": 2,
   "id": "9f61bb53-29a4-40ee-9ee4-818ff524c61f",
   "metadata": {},
   "outputs": [
    {
     "name": "stdout",
     "output_type": "stream",
     "text": [
      "5\n"
     ]
    }
   ],
   "source": [
    "def average_of_array(array):\n",
    "    return sum(array)/len(array)\n",
    "\n",
    "array = [2, 10, 3]\n",
    "print(int(average_of_array(array)))"
   ]
  },
  {
   "cell_type": "markdown",
   "id": "7ac32972-71ba-40db-8192-e9b31bffb3cc",
   "metadata": {},
   "source": [
    "#### 34. Write python program to convert list to flatten?"
   ]
  },
  {
   "cell_type": "code",
   "execution_count": 7,
   "id": "727ffa9d-aed6-44c6-8767-6089e12e8a89",
   "metadata": {},
   "outputs": [
    {
     "name": "stdout",
     "output_type": "stream",
     "text": [
      "[1, 2, 3, 4, 5, 6, 7]\n"
     ]
    }
   ],
   "source": [
    "def flatten_list(list_):\n",
    "    flatten_list = [] \n",
    "    for item in list_:\n",
    "        if isinstance(item, list):\n",
    "            flatten_list.extend(item) \n",
    "        else:\n",
    "            flatten_list.append(item)  \n",
    "    return flatten_list\n",
    "\n",
    "nested_list = [1, [2, 3], [4, 5, 6], 7]\n",
    "result = flatten_list(nested_list)\n",
    "print(result)"
   ]
  },
  {
   "cell_type": "markdown",
   "id": "b63ca44d-3f1c-443a-9dd8-02dea73f7985",
   "metadata": {},
   "source": [
    "#### 35. Reverse string without indexing and data type changing?"
   ]
  },
  {
   "cell_type": "code",
   "execution_count": 5,
   "id": "95908966-f454-4584-a858-0ff83fd30fb9",
   "metadata": {},
   "outputs": [
    {
     "name": "stdout",
     "output_type": "stream",
     "text": [
      "Original String: hello, Areeba Qamar\n",
      "Reversed String: ramaQ abeerA ,olleh\n"
     ]
    }
   ],
   "source": [
    "def reverse_string(string):\n",
    "    if len(string) <= 1:\n",
    "        return string\n",
    "    return reverse_string(string[1:]) + string[0]\n",
    "\n",
    "string = \"hello, Areeba Qamar\"\n",
    "reversed_str = reverse_string(string)\n",
    "print(\"Original String:\", string)\n",
    "print(\"Reversed String:\", reversed_str)"
   ]
  },
  {
   "cell_type": "markdown",
   "id": "e8f7cf33-78a4-4c55-a311-36f8d6b340b3",
   "metadata": {},
   "source": [
    "#### 36. Return dictionary with number and its square till given range."
   ]
  },
  {
   "cell_type": "code",
   "execution_count": 8,
   "id": "36504747-275e-4aad-bcbf-7ae353a57be2",
   "metadata": {},
   "outputs": [
    {
     "name": "stdout",
     "output_type": "stream",
     "text": [
      "{1: 1, 2: 4, 3: 9, 4: 16, 5: 25, 6: 36, 7: 49, 8: 64, 9: 81, 10: 100, 11: 121, 12: 144}\n"
     ]
    }
   ],
   "source": [
    "def square_dict(n):\n",
    "    dict_ = {num: num**2 for num in range(1, n+1)}\n",
    "    return dict_\n",
    "\n",
    "result = square_dict(12)\n",
    "print(result)"
   ]
  },
  {
   "cell_type": "markdown",
   "id": "f5a4c471-bf75-4349-8a89-1d4ddc396221",
   "metadata": {},
   "source": [
    "#### 37. Return dictionary with number and its square till given range without using list comprehension."
   ]
  },
  {
   "cell_type": "code",
   "execution_count": 10,
   "id": "034c72c4-00b7-45c4-bae5-5c7b677d0135",
   "metadata": {},
   "outputs": [
    {
     "name": "stdout",
     "output_type": "stream",
     "text": [
      "{1: 1, 2: 4, 3: 9, 4: 16, 5: 25, 6: 36, 7: 49, 8: 64, 9: 81, 10: 100}\n"
     ]
    }
   ],
   "source": [
    "def square_dict_(n):\n",
    "    keys = []\n",
    "    values = []\n",
    "\n",
    "    for num in range(1, n+1):\n",
    "        keys.append(num)\n",
    "        values.append(num**2)\n",
    "        dict_ = dict(zip(keys, values))\n",
    "        \n",
    "    return dict_\n",
    "\n",
    "result = square_dict_(10)\n",
    "print(result)"
   ]
  },
  {
   "cell_type": "markdown",
   "id": "2ad3177d-0b99-41a0-bccc-cd167a4fb068",
   "metadata": {},
   "source": [
    "#### 38. Write a program in Python to check whether an integer is Armstrong number or not."
   ]
  },
  {
   "cell_type": "code",
   "execution_count": 13,
   "id": "4fc2a683-db44-4bb4-995d-430445772faf",
   "metadata": {},
   "outputs": [
    {
     "name": "stdout",
     "output_type": "stream",
     "text": [
      "Checking number: 153\n",
      "Given number is Armstrong\n",
      "------------------------------------------------------------\n",
      "Checking number: 370\n",
      "Given number is Armstrong\n",
      "------------------------------------------------------------\n",
      "Checking number: 371\n",
      "Given number is Armstrong\n",
      "------------------------------------------------------------\n",
      "Checking number: 407\n",
      "Given number is Armstrong\n",
      "------------------------------------------------------------\n",
      "Checking number: 9474\n",
      "Given number is Armstrong\n",
      "------------------------------------------------------------\n",
      "Checking number: 8208\n",
      "Given number is Armstrong\n",
      "------------------------------------------------------------\n",
      "Checking number: 112\n",
      "Given number is not Armstrong\n",
      "------------------------------------------------------------\n"
     ]
    }
   ],
   "source": [
    "def armstrong_num(int_):\n",
    "    sum_ = 0\n",
    "    string = str(int_)\n",
    "    for i in range(0, len(string)):\n",
    "        sum_ = sum_ + int(string[i]) ** len(string)\n",
    "\n",
    "    if int_ == sum_:\n",
    "        return 'Given number is Armstrong'\n",
    "    else:\n",
    "        return 'Given number is not Armstrong'\n",
    "\n",
    "numbers_list = [153, 370, 371, 407, 9474, 8208, 112]\n",
    "for num in numbers_list:\n",
    "    print(f'Checking number: {num}')\n",
    "    result = armstrong_num(num)\n",
    "    print(result)\n",
    "    print('--' * 30)"
   ]
  },
  {
   "cell_type": "markdown",
   "id": "0b320ab2-5a76-4209-a99d-6d8d0c42a54b",
   "metadata": {},
   "source": [
    "#### 39. Check given string is palindrome or not."
   ]
  },
  {
   "cell_type": "code",
   "execution_count": 2,
   "id": "7edfdd87-b55f-4134-b2f9-70a1ae521f2d",
   "metadata": {},
   "outputs": [
    {
     "name": "stdout",
     "output_type": "stream",
     "text": [
      "madam - String Is Palindrome\n",
      "------------------------------------------------------------------------------------------\n",
      "Ajit - String Is Not Palindrome\n",
      "------------------------------------------------------------------------------------------\n"
     ]
    }
   ],
   "source": [
    "def check_palindrome(string):\n",
    "    if len(string) == 1:\n",
    "        return 'String Is Palindrome'\n",
    "    elif string == string[::-1]:\n",
    "        return 'String Is Palindrome'\n",
    "    else:\n",
    "        return 'String Is Not Palindrome'\n",
    "\n",
    "list_ = ['madam', 'Ajit']\n",
    "for string in list_:\n",
    "    result = check_palindrome(string)\n",
    "    print(f'{string} - {result}')\n",
    "    print('--' * 45)"
   ]
  },
  {
   "cell_type": "code",
   "execution_count": null,
   "id": "d381913b-10cd-4d34-8f9b-273e28010cc1",
   "metadata": {},
   "outputs": [],
   "source": []
  }
 ],
 "metadata": {
  "kernelspec": {
   "display_name": "Python 3 (ipykernel)",
   "language": "python",
   "name": "python3"
  },
  "language_info": {
   "codemirror_mode": {
    "name": "ipython",
    "version": 3
   },
   "file_extension": ".py",
   "mimetype": "text/x-python",
   "name": "python",
   "nbconvert_exporter": "python",
   "pygments_lexer": "ipython3",
   "version": "3.11.7"
  }
 },
 "nbformat": 4,
 "nbformat_minor": 5
}
