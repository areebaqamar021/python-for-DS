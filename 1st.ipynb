{
 "cells": [
  {
   "cell_type": "code",
   "execution_count": 1,
   "id": "ca9c3449-43f4-434b-a5b0-db53718ebd6c",
   "metadata": {},
   "outputs": [],
   "source": [
    "import numpy as np\r\n",
    "import pandas as pd\r\n",
    "import seaborn as sns\r\n",
    "import matplotlib.pyplot as plt\r\n",
    "%matplotlib inline"
   ]
  },
  {
   "cell_type": "markdown",
   "id": "e77717a6-7464-4c02-8363-22c4f3fad335",
   "metadata": {},
   "source": [
    "#### 1. Write a Python function that takes a list of numbers and gives back a new list containing only the odd numbers."
   ]
  },
  {
   "cell_type": "code",
   "execution_count": 8,
   "id": "4cdb9063-5478-49ff-b18c-59904ed6ed6c",
   "metadata": {},
   "outputs": [
    {
     "name": "stdout",
     "output_type": "stream",
     "text": [
      "Odd numbers are :  [11, 13, 15]\n"
     ]
    }
   ],
   "source": [
    "def get_odd_numbers(numbers):\n",
    "    odd_list = []\n",
    "    for n in numbers:\n",
    "        if n % 2 != 0:\n",
    "            odd_list.append(n)\n",
    "    return odd_list\n",
    "\n",
    "nums = [10, 11, 12, 13, 14, 15, 16]\n",
    "odd_numbers =  get_odd_numbers(nums)\n",
    "print(\"Odd numbers are : \", odd_numbers)"
   ]
  },
  {
   "cell_type": "code",
   "execution_count": 1,
   "id": "1ba5197a-8fbe-4372-aef1-16c22714651f",
   "metadata": {},
   "outputs": [
    {
     "name": "stdout",
     "output_type": "stream",
     "text": [
      "Even numbers are :  [10, 12, 14, 16]\n"
     ]
    }
   ],
   "source": [
    "# let's do it for even numbers now\n",
    "def get_even_numbers(numbers):\n",
    "    even_list = []\n",
    "    for n in numbers:\n",
    "        if n % 2 == 0:\n",
    "            even_list.append(n)\n",
    "    return even_list\n",
    "\n",
    "nums = [10, 11, 12, 13, 14, 15, 16]\n",
    "even_numbers = get_even_numbers(nums)\n",
    "print(\"Even numbers are : \", even_numbers)"
   ]
  },
  {
   "cell_type": "markdown",
   "id": "a482c1a6-4c8e-40d3-8368-594c262dbe7d",
   "metadata": {},
   "source": [
    "#### 2. Write a Python function that takes a list of strings as input and returns a new list containing only the strings that have a length greater than a given value."
   ]
  },
  {
   "cell_type": "code",
   "execution_count": 4,
   "id": "6a95c300-06eb-4473-9321-381ffae3605a",
   "metadata": {},
   "outputs": [
    {
     "name": "stdout",
     "output_type": "stream",
     "text": [
      "['banana', 'cherry']\n"
     ]
    }
   ],
   "source": [
    "def filter_strings_by_length(strings, length):\n",
    "    filtered = []\n",
    "    for s in strings:\n",
    "        if len(s) > length:\n",
    "            filtered.append(s)\n",
    "    return filtered\n",
    "\n",
    "words = [\"apple\", \"banana\", \"cherry\", \"kiwi\", \"mango\"]\n",
    "limit = 5\n",
    "result = filter_strings_by_length(words, limit)\n",
    "print(result)"
   ]
  },
  {
   "cell_type": "code",
   "execution_count": 8,
   "id": "73bda72a-e33f-4a8c-b976-944e2702b891",
   "metadata": {},
   "outputs": [
    {
     "name": "stdout",
     "output_type": "stream",
     "text": [
      "['apple', 'kiwi', 'mango']\n"
     ]
    }
   ],
   "source": [
    "def filter_strings_by_length(strings, length):\n",
    "    filtered = []\n",
    "    for s in strings:\n",
    "        if len(s) <= length:\n",
    "            filtered.append(s)\n",
    "    return filtered\n",
    "\n",
    "words = [\"apple\", \"banana\", \"cherry\", \"kiwi\", \"mango\"]\n",
    "limit = 5\n",
    "result = filter_strings_by_length(words, limit)\n",
    "print(result)"
   ]
  },
  {
   "cell_type": "markdown",
   "id": "ae751fc5-1481-47c1-84fc-3d84982369e1",
   "metadata": {},
   "source": [
    "#### 3. Write a Python function that takes a string as input and counts how many vowels (a, e, i, o, u) are in the string. The function should return a dictionary where the keys are the vowels and the values are their counts."
   ]
  },
  {
   "cell_type": "code",
   "execution_count": 4,
   "id": "344fce7e-6ac5-46a8-bd4b-a9caa3ad03a8",
   "metadata": {},
   "outputs": [
    {
     "name": "stdout",
     "output_type": "stream",
     "text": [
      "{'a': 1, 'e': 3, 'i': 1, 'o': 4, 'u': 0}\n"
     ]
    }
   ],
   "source": [
    "def vowel_count(text):\n",
    "    vowels = 'aeiou'\n",
    "    counts = {}\n",
    "    for v in vowels:\n",
    "        counts[v] = text.lower().count(v)\n",
    "    return counts\n",
    "\n",
    "string = \"Hello World, Python is Awesome\"\n",
    "result = vowel_count(string)\n",
    "print(result)"
   ]
  },
  {
   "cell_type": "code",
   "execution_count": 8,
   "id": "4ee42969-359b-4b00-81c8-4db1f9f8249a",
   "metadata": {},
   "outputs": [
    {
     "name": "stdout",
     "output_type": "stream",
     "text": [
      "{'h': 1, 'e': 1, 'o': 2, 'r': 1, 'd': 1, 'l': 3, 'w': 1}\n"
     ]
    }
   ],
   "source": [
    "# Write a Python function that takes a string as input and counts the frequency of each character in the string. The function should return a dictionary where the keys represent the characters and the values represent their corresponding frequencies.\n",
    "\n",
    "def count_chars(text):\n",
    "    counts = {}\n",
    "    text = text.replace(\" \", \"\")\n",
    "    letters = set(text)\n",
    "    \n",
    "    for ch in letters:\n",
    "        counts[ch] = text.count(ch)\n",
    "    return counts\n",
    "\n",
    "my_text = \"hello world\"\n",
    "result = count_chars(my_text)\n",
    "print(result)"
   ]
  },
  {
   "cell_type": "markdown",
   "id": "d6e25792-f863-4d74-94ca-1561c4e86470",
   "metadata": {},
   "source": [
    "#### 4. Write a Python function that takes a list of integers as input and returns a new list containing only the numbers that are perfect squares."
   ]
  },
  {
   "cell_type": "code",
   "execution_count": 14,
   "id": "0a70d1d4-5f29-4caf-bb47-5770056221a9",
   "metadata": {},
   "outputs": [
    {
     "name": "stdout",
     "output_type": "stream",
     "text": [
      "[1, 4, 9, 16, 25]\n"
     ]
    }
   ],
   "source": [
    "import math\n",
    "def get_perfect_squares(numbers):\n",
    "    result = []\n",
    "    for n in numbers:\n",
    "        root = math.isqrt(n) \n",
    "        if root * root == n:     \n",
    "            result.append(n)\n",
    "    return result\n",
    "\n",
    "# Testing the function\n",
    "nums = [1, 2, 3, 4, 5, 9, 10, 16, 20, 25]\n",
    "square_list = get_perfect_squares(nums)\n",
    "print(square_list)"
   ]
  },
  {
   "cell_type": "code",
   "execution_count": 39,
   "id": "d9b512c0-ca8a-4c2f-b0a6-669f13729dea",
   "metadata": {},
   "outputs": [
    {
     "name": "stdout",
     "output_type": "stream",
     "text": [
      "[2, 3, 5, 7]\n"
     ]
    }
   ],
   "source": [
    "# Write a Python function that takes a list of integers as input and returns a new list containing only the prime numbers from the original list.\n",
    "\n",
    "def get_primes(numbers):\n",
    "    from sympy import isprime\n",
    "    primes = []\n",
    "    for n in numbers:\n",
    "        if isprime(n) == True:\n",
    "            primes.append(n)\n",
    "        else:\n",
    "            pass\n",
    "    return primes\n",
    "\n",
    "nums = [2, 3, 4, 5, 6, 7, 8, 9, 10]\n",
    "prime_list = get_primes(nums)\n",
    "print(prime_list)"
   ]
  },
  {
   "cell_type": "markdown",
   "id": "b075619d-3146-4922-8ba4-6cc7f6b0120a",
   "metadata": {},
   "source": [
    "#### 5. Write a Python function that takes a string as input and checks if it is a pangram or not. A pangram is a sentence that contains every letter of the alphabet at least once. The function should return True if the input string is a pangram, and False otherwise."
   ]
  },
  {
   "cell_type": "code",
   "execution_count": 2,
   "id": "9b529fa5-a153-4e91-b21f-96ed8381ac4c",
   "metadata": {},
   "outputs": [
    {
     "name": "stdout",
     "output_type": "stream",
     "text": [
      "True\n"
     ]
    }
   ],
   "source": [
    "def is_pangram(string):\n",
    "    alphabets = 'abcdefghijklmnopqrstuvwxyz'\n",
    "    string = string.lower()\n",
    "    for char in alphabets:\n",
    "        if char not in string:\n",
    "            return False\n",
    "    return True\n",
    "\n",
    "sentence = \"The quick brown fox jumps over the lazy dog\"\n",
    "is_pangram_result = is_pangram(sentence)\n",
    "print(is_pangram_result)"
   ]
  },
  {
   "cell_type": "code",
   "execution_count": null,
   "id": "ad036462-0042-4be0-96ec-b3f0d99c5d01",
   "metadata": {},
   "outputs": [],
   "source": []
  }
 ],
 "metadata": {
  "kernelspec": {
   "display_name": "Python 3 (ipykernel)",
   "language": "python",
   "name": "python3"
  },
  "language_info": {
   "codemirror_mode": {
    "name": "ipython",
    "version": 3
   },
   "file_extension": ".py",
   "mimetype": "text/x-python",
   "name": "python",
   "nbconvert_exporter": "python",
   "pygments_lexer": "ipython3",
   "version": "3.11.7"
  }
 },
 "nbformat": 4,
 "nbformat_minor": 5
}
