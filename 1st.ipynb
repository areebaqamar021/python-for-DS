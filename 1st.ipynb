{
 "cells": [
  {
   "cell_type": "code",
   "execution_count": 1,
   "id": "ca9c3449-43f4-434b-a5b0-db53718ebd6c",
   "metadata": {},
   "outputs": [],
   "source": [
    "import numpy as np\r\n",
    "import pandas as pd\r\n",
    "import seaborn as sns\r\n",
    "import matplotlib.pyplot as plt\r\n",
    "%matplotlib inline"
   ]
  },
  {
   "cell_type": "markdown",
   "id": "e77717a6-7464-4c02-8363-22c4f3fad335",
   "metadata": {},
   "source": [
    "#### Write a Python function that takes a list of numbers and gives back a new list containing only the odd numbers."
   ]
  },
  {
   "cell_type": "code",
   "execution_count": 8,
   "id": "4cdb9063-5478-49ff-b18c-59904ed6ed6c",
   "metadata": {},
   "outputs": [
    {
     "name": "stdout",
     "output_type": "stream",
     "text": [
      "Odd numbers are :  [11, 13, 15]\n"
     ]
    }
   ],
   "source": [
    "def get_odd_numbers(numbers):\n",
    "    odd_list = []\n",
    "    for n in numbers:\n",
    "        if n % 2 != 0:\n",
    "            odd_list.append(n)\n",
    "    return odd_list\n",
    "\n",
    "nums = [10, 11, 12, 13, 14, 15, 16]\n",
    "odd_numbers =  get_odd_numbers(nums)\n",
    "print(\"Odd numbers are : \", odd_numbers)"
   ]
  },
  {
   "cell_type": "code",
   "execution_count": 12,
   "id": "1ba5197a-8fbe-4372-aef1-16c22714651f",
   "metadata": {},
   "outputs": [
    {
     "name": "stdout",
     "output_type": "stream",
     "text": [
      "Even numbers are :  [10, 12, 14, 16]\n"
     ]
    }
   ],
   "source": [
    "# let's do it for even numbers now\n",
    "def get_even_numbers(numbers):\n",
    "    even_list = []\n",
    "    for n in numbers:\n",
    "        if n % 2 == 0:\n",
    "            even_list.append(n)\n",
    "    return even_list\n",
    "\n",
    "nums = [10, 11, 12, 13, 14, 15, 16]\n",
    "even_numbers = get_even_numbers(nums)\n",
    "print(\"Even numbers are : \", even_numbers)"
   ]
  }
 ],
 "metadata": {
  "kernelspec": {
   "display_name": "Python 3 (ipykernel)",
   "language": "python",
   "name": "python3"
  },
  "language_info": {
   "codemirror_mode": {
    "name": "ipython",
    "version": 3
   },
   "file_extension": ".py",
   "mimetype": "text/x-python",
   "name": "python",
   "nbconvert_exporter": "python",
   "pygments_lexer": "ipython3",
   "version": "3.11.7"
  }
 },
 "nbformat": 4,
 "nbformat_minor": 5
}
