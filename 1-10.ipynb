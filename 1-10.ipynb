{
 "cells": [
  {
   "cell_type": "markdown",
   "id": "e77717a6-7464-4c02-8363-22c4f3fad335",
   "metadata": {},
   "source": [
    "#### 1. Write a Python function that takes a list of numbers and gives back a new list containing only the odd numbers."
   ]
  },
  {
   "cell_type": "code",
   "execution_count": 8,
   "id": "4cdb9063-5478-49ff-b18c-59904ed6ed6c",
   "metadata": {},
   "outputs": [
    {
     "name": "stdout",
     "output_type": "stream",
     "text": [
      "Odd numbers are :  [11, 13, 15]\n"
     ]
    }
   ],
   "source": [
    "def get_odd_numbers(numbers):\n",
    "    odd_list = []\n",
    "    for n in numbers:\n",
    "        if n % 2 != 0:\n",
    "            odd_list.append(n)\n",
    "    return odd_list\n",
    "\n",
    "nums = [10, 11, 12, 13, 14, 15, 16]\n",
    "odd_numbers =  get_odd_numbers(nums)\n",
    "print(\"Odd numbers are : \", odd_numbers)"
   ]
  },
  {
   "cell_type": "code",
   "execution_count": 1,
   "id": "1ba5197a-8fbe-4372-aef1-16c22714651f",
   "metadata": {},
   "outputs": [
    {
     "name": "stdout",
     "output_type": "stream",
     "text": [
      "Even numbers are :  [10, 12, 14, 16]\n"
     ]
    }
   ],
   "source": [
    "# let's do it for even numbers now\n",
    "def get_even_numbers(numbers):\n",
    "    even_list = []\n",
    "    for n in numbers:\n",
    "        if n % 2 == 0:\n",
    "            even_list.append(n)\n",
    "    return even_list\n",
    "\n",
    "nums = [10, 11, 12, 13, 14, 15, 16]\n",
    "even_numbers = get_even_numbers(nums)\n",
    "print(\"Even numbers are : \", even_numbers)"
   ]
  },
  {
   "cell_type": "markdown",
   "id": "a482c1a6-4c8e-40d3-8368-594c262dbe7d",
   "metadata": {},
   "source": [
    "#### 2. Write a Python function that takes a list of strings as input and returns a new list containing only the strings that have a length greater than a given value."
   ]
  },
  {
   "cell_type": "code",
   "execution_count": 4,
   "id": "6a95c300-06eb-4473-9321-381ffae3605a",
   "metadata": {},
   "outputs": [
    {
     "name": "stdout",
     "output_type": "stream",
     "text": [
      "['banana', 'cherry']\n"
     ]
    }
   ],
   "source": [
    "def filter_strings_by_length(strings, length):\n",
    "    filtered = []\n",
    "    for s in strings:\n",
    "        if len(s) > length:\n",
    "            filtered.append(s)\n",
    "    return filtered\n",
    "\n",
    "words = [\"apple\", \"banana\", \"cherry\", \"kiwi\", \"mango\"]\n",
    "limit = 5\n",
    "result = filter_strings_by_length(words, limit)\n",
    "print(result)"
   ]
  },
  {
   "cell_type": "code",
   "execution_count": 8,
   "id": "73bda72a-e33f-4a8c-b976-944e2702b891",
   "metadata": {},
   "outputs": [
    {
     "name": "stdout",
     "output_type": "stream",
     "text": [
      "['apple', 'kiwi', 'mango']\n"
     ]
    }
   ],
   "source": [
    "def filter_strings_by_length(strings, length):\n",
    "    filtered = []\n",
    "    for s in strings:\n",
    "        if len(s) <= length:\n",
    "            filtered.append(s)\n",
    "    return filtered\n",
    "\n",
    "words = [\"apple\", \"banana\", \"cherry\", \"kiwi\", \"mango\"]\n",
    "limit = 5\n",
    "result = filter_strings_by_length(words, limit)\n",
    "print(result)"
   ]
  },
  {
   "cell_type": "markdown",
   "id": "ae751fc5-1481-47c1-84fc-3d84982369e1",
   "metadata": {},
   "source": [
    "#### 3. Write a Python function that takes a string as input and counts how many vowels (a, e, i, o, u) are in the string. The function should return a dictionary where the keys are the vowels and the values are their counts."
   ]
  },
  {
   "cell_type": "code",
   "execution_count": 4,
   "id": "344fce7e-6ac5-46a8-bd4b-a9caa3ad03a8",
   "metadata": {},
   "outputs": [
    {
     "name": "stdout",
     "output_type": "stream",
     "text": [
      "{'a': 1, 'e': 3, 'i': 1, 'o': 4, 'u': 0}\n"
     ]
    }
   ],
   "source": [
    "def vowel_count(text):\n",
    "    vowels = 'aeiou'\n",
    "    counts = {}\n",
    "    for v in vowels:\n",
    "        counts[v] = text.lower().count(v)\n",
    "    return counts\n",
    "\n",
    "string = \"Hello World, Python is Awesome\"\n",
    "result = vowel_count(string)\n",
    "print(result)"
   ]
  },
  {
   "cell_type": "code",
   "execution_count": 8,
   "id": "4ee42969-359b-4b00-81c8-4db1f9f8249a",
   "metadata": {},
   "outputs": [
    {
     "name": "stdout",
     "output_type": "stream",
     "text": [
      "{'h': 1, 'e': 1, 'o': 2, 'r': 1, 'd': 1, 'l': 3, 'w': 1}\n"
     ]
    }
   ],
   "source": [
    "# Write a Python function that takes a string as input and counts the frequency of each character in the string. The function should return a dictionary where the keys represent the characters and the values represent their corresponding frequencies.\n",
    "\n",
    "def count_chars(text):\n",
    "    counts = {}\n",
    "    text = text.replace(\" \", \"\")\n",
    "    letters = set(text)\n",
    "    \n",
    "    for ch in letters:\n",
    "        counts[ch] = text.count(ch)\n",
    "    return counts\n",
    "\n",
    "my_text = \"hello world\"\n",
    "result = count_chars(my_text)\n",
    "print(result)"
   ]
  },
  {
   "cell_type": "markdown",
   "id": "d6e25792-f863-4d74-94ca-1561c4e86470",
   "metadata": {},
   "source": [
    "#### 4. Write a Python function that takes a list of integers as input and returns a new list containing only the numbers that are perfect squares."
   ]
  },
  {
   "cell_type": "code",
   "execution_count": 14,
   "id": "0a70d1d4-5f29-4caf-bb47-5770056221a9",
   "metadata": {},
   "outputs": [
    {
     "name": "stdout",
     "output_type": "stream",
     "text": [
      "[1, 4, 9, 16, 25]\n"
     ]
    }
   ],
   "source": [
    "import math\n",
    "def get_perfect_squares(numbers):\n",
    "    result = []\n",
    "    for n in numbers:\n",
    "        root = math.isqrt(n) \n",
    "        if root * root == n:     \n",
    "            result.append(n)\n",
    "    return result\n",
    "\n",
    "# Testing the function\n",
    "nums = [1, 2, 3, 4, 5, 9, 10, 16, 20, 25]\n",
    "square_list = get_perfect_squares(nums)\n",
    "print(square_list)"
   ]
  },
  {
   "cell_type": "code",
   "execution_count": 39,
   "id": "d9b512c0-ca8a-4c2f-b0a6-669f13729dea",
   "metadata": {},
   "outputs": [
    {
     "name": "stdout",
     "output_type": "stream",
     "text": [
      "[2, 3, 5, 7]\n"
     ]
    }
   ],
   "source": [
    "# Write a Python function that takes a list of integers as input and returns a new list containing only the prime numbers from the original list.\n",
    "\n",
    "def get_primes(numbers):\n",
    "    from sympy import isprime\n",
    "    primes = []\n",
    "    for n in numbers:\n",
    "        if isprime(n) == True:\n",
    "            primes.append(n)\n",
    "        else:\n",
    "            pass\n",
    "    return primes\n",
    "\n",
    "nums = [2, 3, 4, 5, 6, 7, 8, 9, 10]\n",
    "prime_list = get_primes(nums)\n",
    "print(prime_list)"
   ]
  },
  {
   "cell_type": "markdown",
   "id": "b075619d-3146-4922-8ba4-6cc7f6b0120a",
   "metadata": {},
   "source": [
    "#### 5. Write a Python function that takes a string as input and checks if it is a pangram or not. A pangram is a sentence that contains every letter of the alphabet at least once. The function should return True if the input string is a pangram, and False otherwise."
   ]
  },
  {
   "cell_type": "code",
   "execution_count": 2,
   "id": "9b529fa5-a153-4e91-b21f-96ed8381ac4c",
   "metadata": {},
   "outputs": [
    {
     "name": "stdout",
     "output_type": "stream",
     "text": [
      "True\n"
     ]
    }
   ],
   "source": [
    "def is_pangram(string):\n",
    "    alphabets = 'abcdefghijklmnopqrstuvwxyz'\n",
    "    string = string.lower()\n",
    "    for char in alphabets:\n",
    "        if char not in string:\n",
    "            return False\n",
    "    return True\n",
    "\n",
    "sentence = \"The quick brown fox jumps over the lazy dog\"\n",
    "is_pangram_result = is_pangram(sentence)\n",
    "print(is_pangram_result)"
   ]
  },
  {
   "cell_type": "markdown",
   "id": "41fd213e-1bf1-445f-a585-192024d6fd1e",
   "metadata": {},
   "source": [
    "#### 6. Write a Python function that takes a sentence as input and returns the sentence with each word reversed, but the order of words should remain the same."
   ]
  },
  {
   "cell_type": "code",
   "execution_count": 4,
   "id": "4cac6c2e-8057-483d-b825-d6d31915a526",
   "metadata": {},
   "outputs": [
    {
     "name": "stdout",
     "output_type": "stream",
     "text": [
      "olleH ,dlrow woh era ?uoy\n"
     ]
    }
   ],
   "source": [
    "def reverse_each_word(sentence):\n",
    "    words = sentence.split()    # split sentence into words\n",
    "    new_words = []\n",
    "\n",
    "    for w in words:\n",
    "        new_words.append(w[::-1])\n",
    "        \n",
    "    return \" \".join(new_words)\n",
    "\n",
    "sentence = \"Hello world, how are you?\"\n",
    "result = reverse_each_word(sentence)\n",
    "print(result)"
   ]
  },
  {
   "cell_type": "code",
   "execution_count": 23,
   "id": "4859b7fb-73f5-468f-b7e7-848f59841df9",
   "metadata": {},
   "outputs": [
    {
     "name": "stdout",
     "output_type": "stream",
     "text": [
      "you? are how world, Hello\n"
     ]
    }
   ],
   "source": [
    "# Write a function called reverse_words that takes a sentence as input and returns the sentence with the order of words reversed. Each word in the sentence should remain unchanged, but the order of the words should be reversed.\n",
    "\n",
    "def reverse_words(string):\n",
    "    \n",
    "    string=string.split()\n",
    "    reverse_list=string[::-1]\n",
    "    return ' '.join(reverse_list)\n",
    "\n",
    "sentence = \"Hello world, how are you?\"\n",
    "reversed_sentence = reverse_words(sentence)\n",
    "print(reversed_sentence)"
   ]
  },
  {
   "cell_type": "markdown",
   "id": "c98263c2-e49d-463d-84a0-3cb74fd87d12",
   "metadata": {},
   "source": [
    "#### 7. Write a function called keep_unique_strings that takes a list of strings as input and returns a new list with duplicate strings removed. The order of the elements should be maintained in the new list."
   ]
  },
  {
   "cell_type": "code",
   "execution_count": 3,
   "id": "d1bb4beb-bba7-4512-ab53-4ab96a1b175c",
   "metadata": {},
   "outputs": [
    {
     "name": "stdout",
     "output_type": "stream",
     "text": [
      "['apple', 'banana', 'cherry', 'mango']\n"
     ]
    }
   ],
   "source": [
    "def keep_unique_strings(words):\n",
    "    unique_words = []\n",
    "\n",
    "    for w in words:\n",
    "        if w not in unique_words:\n",
    "            unique_words.append(w)\n",
    "            \n",
    "    return unique_words\n",
    "\n",
    "fruits = [\"apple\", \"banana\", \"apple\", \"cherry\", \"banana\", \"mango\"]\n",
    "result = keep_unique_strings(fruits)\n",
    "print(result)"
   ]
  },
  {
   "cell_type": "code",
   "execution_count": 5,
   "id": "16b5aa56-43f0-40cc-b3f9-75a0ee2e42e7",
   "metadata": {},
   "outputs": [
    {
     "name": "stdout",
     "output_type": "stream",
     "text": [
      "[1, 2, 3, 4, 5]\n"
     ]
    }
   ],
   "source": [
    "# Write a function called remove_duplicates that takes a list as input and returns a new list with duplicate elements removed. The order of the elements should be maintained in the new list.\n",
    "\n",
    "def remove_duplicates(list):\n",
    "    unique_list = []\n",
    "\n",
    "    for n in list:\n",
    "        if n not in unique_list:\n",
    "            unique_list.append(n)\n",
    "\n",
    "    return unique_list\n",
    "\n",
    "list_ = [1, 2, 3, 2, 4, 1, 5]\n",
    "result = remove_duplicates(list_)\n",
    "print(result)"
   ]
  },
  {
   "cell_type": "markdown",
   "id": "02ddbfd3-ef3a-4201-bec0-e6379fa6ff97",
   "metadata": {},
   "source": [
    "#### 8. Write a function called find_extra_number that takes two lists: one list contains numbers from 1 to N, and the second list is the same but with one extra number added. The function should return the extra number."
   ]
  },
  {
   "cell_type": "code",
   "execution_count": 12,
   "id": "49243301-4ee6-4b83-ab53-d2bf6fbbcb5e",
   "metadata": {},
   "outputs": [
    {
     "name": "stdout",
     "output_type": "stream",
     "text": [
      "4\n"
     ]
    }
   ],
   "source": [
    "def find_missing_number(list_):\n",
    "    n = len(list_) + 1\n",
    "    expected_sum = n * (n + 1) // 2\n",
    "    actual_sum = sum(list_)\n",
    "    return expected_sum - actual_sum\n",
    "\n",
    "list_ = [1, 2, 3, 5]\n",
    "missing = find_missing_number(list_)\n",
    "print(missing)"
   ]
  },
  {
   "cell_type": "code",
   "execution_count": 1,
   "id": "2791a23a-408a-461a-8966-402ecaf6a460",
   "metadata": {},
   "outputs": [
    {
     "name": "stdout",
     "output_type": "stream",
     "text": [
      "[1, 2, 3, 4, 5]\n"
     ]
    }
   ],
   "source": [
    "# Write a function called complete_list that takes a list of integers from 1 to N (with one missing number) and returns the full list after adding the missing number.\n",
    "\n",
    "def complete_list(nums):\n",
    "    n = max(nums)\n",
    "    full_list = []\n",
    "\n",
    "    for i in range(1, n + 1):\n",
    "        if i not in nums:\n",
    "            full_list.append(i)\n",
    "        full_list.append(i)\n",
    "    result = sorted(set(full_list))  \n",
    "    return result\n",
    "\n",
    "nums = [1, 2, 3, 5]\n",
    "print(complete_list(nums))"
   ]
  },
  {
   "cell_type": "markdown",
   "id": "34c58e79-6696-4ae1-9652-bb5c35ca8dc7",
   "metadata": {},
   "source": [
    "#### 9. Write a Python function that takes two lists of words and returns the words that appear in both lists."
   ]
  },
  {
   "cell_type": "code",
   "execution_count": 7,
   "id": "223ba9ae-540a-497e-945b-640f1a906533",
   "metadata": {},
   "outputs": [
    {
     "name": "stdout",
     "output_type": "stream",
     "text": [
      "['cherry', 'date']\n"
     ]
    }
   ],
   "source": [
    "def common_words(list1, list2):\n",
    "    common = []   \n",
    "    \n",
    "    for word in list1:            \n",
    "        if word in list2:         \n",
    "            common.append(word)  \n",
    "    \n",
    "    return common   #\n",
    "\n",
    "list1 = [\"apple\", \"banana\", \"cherry\", \"date\"]\n",
    "list2 = [\"cherry\", \"date\", \"fig\", \"grape\"]\n",
    "result = common_words(list1, list2)\n",
    "print(result)"
   ]
  },
  {
   "cell_type": "code",
   "execution_count": 9,
   "id": "9d9f3097-bb08-4acb-ac77-c1ab9dcd8817",
   "metadata": {},
   "outputs": [
    {
     "name": "stdout",
     "output_type": "stream",
     "text": [
      "[3, 4]\n"
     ]
    }
   ],
   "source": [
    "# Write a Python function that takes two lists of numbers and returns the words that appear in both lists.\n",
    "\n",
    "def common_num(list1, list2):\n",
    "    common_numbers = []\n",
    "\n",
    "    for num in list1:\n",
    "        if num in list2:\n",
    "            common_numbers.append(num)\n",
    "\n",
    "    return common_numbers\n",
    "\n",
    "list1 = [1, 2, 3, 4]\n",
    "list2 = [3, 4, 5, 6]\n",
    "common_numbers_list = common_num(list1, list2)\n",
    "print(common_numbers_list)"
   ]
  },
  {
   "cell_type": "markdown",
   "id": "5cb33413-e094-45c9-8893-f3b671c5eb1d",
   "metadata": {},
   "source": [
    "#### 10. Write a function called count_vowels that takes a string as input and returns the count of vowels (a, e, i, o, u) in the string."
   ]
  },
  {
   "cell_type": "code",
   "execution_count": 14,
   "id": "760fbaea-3f25-474b-9a78-f0fdade09358",
   "metadata": {},
   "outputs": [
    {
     "name": "stdout",
     "output_type": "stream",
     "text": [
      "{'e': 2, 'o': 3, 'a': 3, 'i': 2, 'u': 1}\n"
     ]
    }
   ],
   "source": [
    "def count_vowels(string):\n",
    "    vowels = 'aeiou'\n",
    "    string = string.lower()\n",
    "    frequency = {}\n",
    "\n",
    "    for char in string:\n",
    "        if char in vowels:\n",
    "            frequency[char] = frequency.get(char, 0) + 1\n",
    "\n",
    "    return frequency\n",
    "\n",
    "text = \"Hello, Alicia how are you?\"\n",
    "print(count_vowels(text))"
   ]
  }
 ],
 "metadata": {
  "kernelspec": {
   "display_name": "Python 3 (ipykernel)",
   "language": "python",
   "name": "python3"
  },
  "language_info": {
   "codemirror_mode": {
    "name": "ipython",
    "version": 3
   },
   "file_extension": ".py",
   "mimetype": "text/x-python",
   "name": "python",
   "nbconvert_exporter": "python",
   "pygments_lexer": "ipython3",
   "version": "3.11.7"
  }
 },
 "nbformat": 4,
 "nbformat_minor": 5
}
